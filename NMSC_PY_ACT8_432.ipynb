{
  "nbformat": 4,
  "nbformat_minor": 0,
  "metadata": {
    "colab": {
      "provenance": [],
      "toc_visible": true,
      "authorship_tag": "ABX9TyO0IR9faP22Nelz9f4OASq1",
      "include_colab_link": true
    },
    "kernelspec": {
      "name": "python3",
      "display_name": "Python 3"
    },
    "language_info": {
      "name": "python"
    }
  },
  "cells": [
    {
      "cell_type": "markdown",
      "metadata": {
        "id": "view-in-github",
        "colab_type": "text"
      },
      "source": [
        "<a href=\"https://colab.research.google.com/github/20020424/python/blob/main/NMSC_PY_ACT8_432.ipynb\" target=\"_parent\"><img src=\"https://colab.research.google.com/assets/colab-badge.svg\" alt=\"Open In Colab\"/></a>"
      ]
    },
    {
      "cell_type": "markdown",
      "source": [],
      "metadata": {
        "id": "U3ri8oSlIGYb"
      }
    },
    {
      "cell_type": "code",
      "source": [
        "import random\n",
        "from IPython.display import clear_output"
      ],
      "metadata": {
        "id": "v0vqAKqwU0NA"
      },
      "execution_count": null,
      "outputs": []
    },
    {
      "cell_type": "code",
      "source": [
        "def juego_adivinanza():\n",
        "    clear_output()\n",
        "    ganados = 0\n",
        "    perdidos = 0\n",
        "    \n",
        "    while True:\n",
        "        num_generado = random.randint(1, 10)\n",
        "        intentos = 0\n",
        "        while intentos < 3:\n",
        "            num_usuario = vali_num(\"Ingresa un número del 1 al 10: \", 1, 10)\n",
        "            \n",
        "            if num_usuario == num_generado:\n",
        "                print(\"¡Adivinaste!\")\n",
        "                ganados += 1\n",
        "                break\n",
        "            else:\n",
        "                intentos += 1\n",
        "                if intentos == 3:\n",
        "                    print(\"Fallaste. El número generado era:\", num_generado)\n",
        "                    perdidos += 1\n",
        "                else:\n",
        "                    print(\"Fallaste. Intenta de nuevo.\")\n",
        "        \n",
        "        jugar_nuevamente = input(\"¿Quieres jugar de nuevo? (s/n): \")\n",
        "        if jugar_nuevamente.lower() != \"s\":\n",
        "         break\n",
        "    \n",
        "    print(\"Ganados:\", ganados)\n",
        "    print(\"Perdidos:\", perdidos)\n",
        "  "
      ],
      "metadata": {
        "id": "WcaFmXmArZ6i"
      },
      "execution_count": null,
      "outputs": []
    },
    {
      "cell_type": "code",
      "source": [
        "def vali_num(mensaje, minimo, maximo):\n",
        "    while True:\n",
        "        try:\n",
        "            num = int(input(mensaje))\n",
        "            if num < minimo or num > maximo:\n",
        "                print(\"Error: Ingresa un número dentro del rango.\")\n",
        "            else:\n",
        "                return num\n",
        "        except ValueError:\n",
        "            print(\"Error: Ingresa un número válido.\")"
      ],
      "metadata": {
        "id": "yE8s6abUU5vL"
      },
      "execution_count": null,
      "outputs": []
    },
    {
      "cell_type": "code",
      "source": [
        "def valida_num(msge,msgError2=\"INGRESA UN VALOR NUMERICO ENTERO\"):\n",
        "    while True:\n",
        "        try:\n",
        "            num = int(input(f\"{msge}\"))\n",
        "        except:\n",
        "            print (msgError2)\n",
        "            continue\n",
        "        else:\n",
        "            break\n",
        "    return num"
      ],
      "metadata": {
        "id": "KGVRYF4omw6l"
      },
      "execution_count": 46,
      "outputs": []
    },
    {
      "cell_type": "code",
      "source": [
        "def lista_A():\n",
        "    lista = []\n",
        "\n",
        "    for i in range(10):\n",
        "        lista.append(0)\n",
        "    i = 1\n",
        "    while True:\n",
        "        pos = random.randint(0,9)\n",
        "        if lista[pos] == 0:\n",
        "            lista[pos] = i\n",
        "            i += 1\n",
        "        else:\n",
        "            continue\n",
        "        if i<= 10:\n",
        "            continue\n",
        "        break\n",
        "    return lista"
      ],
      "metadata": {
        "id": "rSCOyME9g5ZH"
      },
      "execution_count": 41,
      "outputs": []
    },
    {
      "cell_type": "code",
      "source": [
        "def lista_B():\n",
        "    lista = []\n",
        "    lista = random.sample(range(1, 11), 10)\n",
        "    return lista"
      ],
      "metadata": {
        "id": "up5tSTSlhARV"
      },
      "execution_count": 42,
      "outputs": []
    },
    {
      "cell_type": "code",
      "source": [
        "def lista_C():\n",
        "    lista = list(range(1,11))\n",
        "    random.shuffle(lista)\n",
        "    return lista"
      ],
      "metadata": {
        "id": "iWfRCkeDhDCv"
      },
      "execution_count": 43,
      "outputs": []
    },
    {
      "cell_type": "code",
      "source": [
        "def juego_buscar():\n",
        "    lista = []\n",
        "    op = 1\n",
        "    ganado = 0\n",
        "    perdido = 0\n",
        "    while op != 2:\n",
        "        clear_output() \n",
        "        print(\"JUEGO DE BUSCAR EL NUMERO\")\n",
        "        print(\"1.-Lista random llenada con ciclos\")\n",
        "        print(\"2.-Lista random llenada con sample\")\n",
        "        print(\"3.-Lista random llenada con shuffle\")\n",
        "        op = int(input(\"Selecciona una opción: \"))\n",
        "        if op == 1:\n",
        "            lista = lista_A()\n",
        "        elif op == 2:\n",
        "            lista = lista_B()\n",
        "        elif op == 3:\n",
        "            lista = lista_C()\n",
        "        posreal = random.randint(0,9)\n",
        "        numadivinar = lista[posreal]\n",
        "        print(f\"El número que se genero es el {numadivinar}, intenta adivinar su posicion del 0 al 9\")\n",
        "        pos = valida_num(\"En que posicion crees que esta el numero: \")\n",
        "        if lista[pos] == numadivinar:\n",
        "            print(\"GANASTE, EL NUMERO SI SE ENCUENTRA EN ESA POSICION!\")\n",
        "            print(\"  \",end=\"\")\n",
        "            for i in range(10):\n",
        "                print(f\" {i}\",end=\" \")\n",
        "            print(\"\\n\",lista)\n",
        "            ganado += 1\n",
        "        else:\n",
        "            print(f\"PERDISTE, EL NUMERO SE ENCUENTRA EN EL INDICE {posreal}, TIENES UN NUEVO INTENTO\")\n",
        "            print(\"  \",end=\"\")\n",
        "            for i in range(10):\n",
        "                print(f\" {i}\",end=\" \")\n",
        "            print(\"\\n\",lista)\n",
        "            perdido += 1\n",
        "        if perdido == 3:\n",
        "            print(\"PERDISTE 3 VECES, YA NO TE QUEDAN INTENTOS\")\n",
        "            break\n",
        "        \n",
        "    print(f\"Ganaste: {ganado} veces\")\n",
        "    print(f\"Perdiste: {perdido} veces\")"
      ],
      "metadata": {
        "id": "lbk2Dbx8fjXn"
      },
      "execution_count": 51,
      "outputs": []
    },
    {
      "cell_type": "code",
      "source": [
        "def menu():\n",
        "    print(\"MENU:\")\n",
        "    print(\"1.-JUEGO ADIVINAR NUMERO\")\n",
        "    print(\"2.-JUEGO BUSCAR NUMERO EN UNA LISTA\")\n",
        "    print(\"0.-SALIR\")\n",
        "    "
      ],
      "metadata": {
        "id": "MYEUJ9T68iAq"
      },
      "execution_count": 44,
      "outputs": []
    },
    {
      "cell_type": "code",
      "source": [
        "from IPython.display import clear_output\n",
        "\n",
        "while True:\n",
        "    menu()\n",
        "    opcion = int(input(\"INGRESE UN NUMERO DE LAS OPCIONES:\"))\n",
        "    \n",
        "    if opcion == 1:\n",
        "        juego_adivinanza()\n",
        "        print(\"JUEGO ADIVINA EL NUMERO\")\n",
        "        input(\"Presiona ENTER para borrar la pantalla\")\n",
        "        clear_output()\n",
        "        continue\n",
        "    elif opcion == 2:\n",
        "        juego_buscar()\n",
        "        print(\"JUEGO BUSCAR EL NUMERO\")\n",
        "        input(\"Presiona ENTER para borrar la pantalla\")\n",
        "        clear_output()\n",
        "        continue\n",
        "    elif opcion == 0:\n",
        "        print(\"Saliendo del programa...\")\n",
        "        break"
      ],
      "metadata": {
        "colab": {
          "base_uri": "https://localhost:8080/"
        },
        "id": "87jIXudtItmQ",
        "outputId": "f5d9c2ac-a1b4-4b4c-82df-ed9cb0bcb164"
      },
      "execution_count": null,
      "outputs": [
        {
          "output_type": "stream",
          "name": "stdout",
          "text": [
            "MENU:\n",
            "1.-JUEGO ADIVINAR NUMERO\n",
            "2.-JUEGO BUSCAR NUMERO EN UNA LISTA\n",
            "0.-SALIR\n",
            "INGRESE UN NUMERO DE LAS OPCIONES:1\n",
            "Ingresa un número del 1 al 10: 5\n",
            "Fallaste. Intenta de nuevo.\n",
            "Ingresa un número del 1 al 10: 2\n",
            "Fallaste. Intenta de nuevo.\n",
            "Ingresa un número del 1 al 10: 9\n",
            "¡Adivinaste!\n",
            "¿Quieres jugar de nuevo? (s/n): n\n",
            "Ganados: 1\n",
            "Perdidos: 0\n",
            "JUEGO ADIVINA EL NUMERO\n"
          ]
        }
      ]
    }
  ]
}