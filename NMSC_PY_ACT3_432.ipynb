{
  "nbformat": 4,
  "nbformat_minor": 0,
  "metadata": {
    "colab": {
      "provenance": [],
      "authorship_tag": "ABX9TyNVo0PwV7IcDzq7Kv3sm/+7",
      "include_colab_link": true
    },
    "kernelspec": {
      "name": "python3",
      "display_name": "Python 3"
    },
    "language_info": {
      "name": "python"
    }
  },
  "cells": [
    {
      "cell_type": "markdown",
      "metadata": {
        "id": "view-in-github",
        "colab_type": "text"
      },
      "source": [
        "<a href=\"https://colab.research.google.com/github/20020424/python/blob/main/NMSC_PY_ACT3_432.ipynb\" target=\"_parent\"><img src=\"https://colab.research.google.com/assets/colab-badge.svg\" alt=\"Open In Colab\"/></a>"
      ]
    },
    {
      "cell_type": "markdown",
      "source": [
        "### `1.- Algoritmo que lea 3 calificaciones calcule el promedio del alumno`"
      ],
      "metadata": {
        "id": "0mcnWnSV4wt_"
      }
    },
    {
      "cell_type": "code",
      "execution_count": null,
      "metadata": {
        "colab": {
          "base_uri": "https://localhost:8080/"
        },
        "id": "FuT1bH714lFf",
        "outputId": "f8c1d7d1-d2fa-4dcd-b1a3-55437e83b96c"
      },
      "outputs": [
        {
          "output_type": "stream",
          "name": "stdout",
          "text": [
            "Ingresar la primera calificacion:89.6\n",
            "Ingresar la segunda calificacion:75.3\n",
            "Ingresar la tercera calificacion:65.3\n",
            "Regular\n"
          ]
        }
      ],
      "source": [
        "calif1 = float(input(\"Ingresar la primera calificacion:\"))\n",
        "calif2 = float(input(\"Ingresar la segunda calificacion:\"))\n",
        "calif3 = float(input(\"Ingresar la tercera calificacion:\"))\n",
        "\n",
        "promedio = (calif1 + calif2 + calif3) / 3\n",
        "\n",
        "if promedio < 30:\n",
        "    print(\"Repetir\")\n",
        "elif promedio >= 30 and promedio < 60:\n",
        "    print(\"Extraordinario\")\n",
        "elif promedio >= 60 and promedio < 70:\n",
        "    print(\"Suficiente\")\n",
        "elif promedio >= 70 and promedio < 80:\n",
        "    print(\"Regular\")\n",
        "elif promedio >= 80 and promedio < 90:\n",
        "    print(\"Bien\")\n",
        "elif promedio >= 90 and promedio < 98:\n",
        "    print(\"Muy bien\")\n",
        "elif promedio >= 98 and promedio <= 100:\n",
        "    print(\"Excelente\")\n",
        "else:\n",
        "    print(\"Error en promedio\")"
      ]
    },
    {
      "cell_type": "markdown",
      "source": [
        "#### `2.- Algoritmo que sirva para calcular el salario semanal de un trabajador donde se obtiene como dato de entrada las horas semanales trabajadas, el salario por hora.` \n",
        "`El programa deberá calcular el salario normal, salario extra y salario total` "
      ],
      "metadata": {
        "id": "0C-Y8mTb8nJ5"
      }
    },
    {
      "cell_type": "code",
      "source": [
        "horas_trabajadas = float(input(\"Ingresa las horas trabajadas en la semana: \"))\n",
        "salario_hora = float(input(\"Ingresa el salario por hora: \"))\n",
        "\n",
        "if horas_trabajadas <= 40:\n",
        "    salario_normal = horas_trabajadas * salario_hora\n",
        "    salario_extra = 120\n",
        "else:\n",
        "    salario_normal = 40 * salario_hora\n",
        "    horas_extra = horas_trabajadas - 40\n",
        "    if horas_extra <= 9:\n",
        "        salario_extra = horas_extra * (salario_hora * 2)\n",
        "    else:\n",
        "        salario_extra = 9 * (salario_hora * 2) + (horas_extra - 9) * (salario_hora * 3)\n",
        "\n",
        "salario_total = salario_normal + salario_extra\n",
        "\n",
        "print(\"El salario normal es: $\", salario_normal)\n",
        "print(\"El salario extra es: $\", salario_extra)\n",
        "print(\"El salario total es: $\", salario_total)\n"
      ],
      "metadata": {
        "colab": {
          "base_uri": "https://localhost:8080/"
        },
        "id": "HtTMXuoP81yv",
        "outputId": "26e63653-0943-4449-88ba-05f96a2b0ea1"
      },
      "execution_count": null,
      "outputs": [
        {
          "output_type": "stream",
          "name": "stdout",
          "text": [
            "Ingresa las horas trabajadas en la semana: 48\n",
            "Ingresa el salario por hora: 500\n",
            "El salario normal es: $ 20000.0\n",
            "El salario extra es: $ 8000.0\n",
            "El salario total es: $ 28000.0\n"
          ]
        }
      ]
    },
    {
      "cell_type": "markdown",
      "source": [
        "### `3.- Algoritmo que sirva para desplegar el Total de una llamada telefónica donde se pide como datos de entrada los minutos y el tipo de llamada, se cobra de la siguiente manera:`\n",
        "\n",
        "`1.   Llamada Local $3.00 sin límite de tiempo .`\n",
        "`2.   Llamada Nacional $7.00 por los 3 primeros minutos y $2.00 minuto adicional` \n",
        "`3.   Llamada Internacional $9.00 por los 2 primeros minutos y $4.00 minuto adicional`"
      ],
      "metadata": {
        "id": "7kR--aQuDOLf"
      }
    },
    {
      "cell_type": "code",
      "source": [
        "minutos = int(input(\"Introduce los minutos de la llamada: \"))\n",
        "tipo_llamada = int(input(\"Introduce el tipo de llamada (1=Local, 2=Nacional, 3=Internacional): \"))\n",
        "\n",
        "if tipo_llamada == 1:\n",
        "    costo = 3.00\n",
        "elif tipo_llamada == 2:\n",
        "    if minutos <= 3:\n",
        "        costo = 7.00\n",
        "    else:\n",
        "        costo = 7.00 + 2.00 * (minutos - 3)\n",
        "else:\n",
        "    if minutos <= 2:\n",
        "        costo = 9.00\n",
        "    else:\n",
        "        costo = 9.00 + 4.00 * (minutos - 2)\n",
        "\n",
        "subtotal = costo\n",
        "iva = subtotal * 0.16\n",
        "total = subtotal + iva\n",
        "\n",
        "print(\"Subtotal: ${:.2f}\".format(subtotal))\n",
        "print(\"IVA: ${:.2f}\".format(iva))\n",
        "print(\"Total: ${:.2f}\".format(total))\n"
      ],
      "metadata": {
        "colab": {
          "base_uri": "https://localhost:8080/"
        },
        "id": "_E8cRmQJD3xs",
        "outputId": "0dd87694-776b-429b-99aa-6c1f2955ed01"
      },
      "execution_count": null,
      "outputs": [
        {
          "output_type": "stream",
          "name": "stdout",
          "text": [
            "Introduce los minutos de la llamada: 30\n",
            "Introduce el tipo de llamada (1=Local, 2=Nacional, 3=Internacional): 2\n",
            "Subtotal: $61.00\n",
            "IVA: $9.76\n",
            "Total: $70.76\n"
          ]
        }
      ]
    },
    {
      "cell_type": "markdown",
      "source": [
        "### `5- En la materia de Metodología de la programación se aplican 5 exámenes, calcular el promedio final de la materia donde la calificación menor de los exámenes se anula y el promedio se calcula en base a 4 exámenes.`"
      ],
      "metadata": {
        "id": "bQGwhGjmw_Ur"
      }
    },
    {
      "cell_type": "code",
      "source": [
        "calif1 = float(input(\"Ingrese la calificacion del primer examen: \"))\n",
        "calif2 = float(input(\"Ingrese la calificacion del segundo examen: \"))\n",
        "calif3 = float(input(\"Ingrese la calificacion del tercer examen: \"))\n",
        "calif4 = float(input(\"Ingrese la calificacion del cuarto examen: \"))\n",
        "calif5 = float(input(\"Ingrese la calificacion del quinto examen: \"))\n",
        "\n",
        "calif_menor = min(calif1, calif2, calif3, calif4, calif5)\n",
        "\n",
        "promedio_final = (calif1 + calif2 + calif3 + calif4 + calif5 - calif_menor) / 4\n",
        "\n",
        "print(\"El promedio final es:\", promedio_final)\n"
      ],
      "metadata": {
        "colab": {
          "base_uri": "https://localhost:8080/"
        },
        "id": "Ls_QgbYjxI6M",
        "outputId": "5aa9c49b-a13d-423d-e11f-807beda1a063"
      },
      "execution_count": null,
      "outputs": [
        {
          "output_type": "stream",
          "name": "stdout",
          "text": [
            "Ingrese la calificación del primer examen: 56.3\n",
            "Ingrese la calificación del segundo examen: 89.3\n",
            "Ingrese la calificación del tercer examen: 42.1\n",
            "Ingrese la calificación del cuarto examen: 92.4\n",
            "Ingrese la calificación del quinto examen: 64.5\n",
            "El promedio final es: 75.625\n"
          ]
        }
      ]
    },
    {
      "cell_type": "markdown",
      "source": [
        "#### `6.- Algoritmo que sirva para el juego del CHINCHAMPU (Piedra, Papel, Tijera) para 1 jugador y la computadora, (usar condición anidada)`"
      ],
      "metadata": {
        "id": "8FYesnShOq4H"
      }
    },
    {
      "cell_type": "code",
      "source": [
        "import random\n",
        "\n",
        "print(\"Juego de Piedra, Papel, Tijera\\n\")\n",
        "print(\"ESCRIBA BIEN SU OPCION\")\n",
        "\n",
        "opciones = [\"piedra\", \"papel\", \"tijera\"]\n",
        "\n",
        "jugador = input(\"Elige piedra, papel o tijera: \").lower()\n",
        "\n",
        "if jugador not in opciones:\n",
        "    print(\"Elección no válida. Por favor, elige piedra, papel o tijera.\")\n",
        "else:\n",
        "    computadora = random.choice(opciones)\n",
        "    print(f\"La computadora elige: {computadora}\\n\")\n",
        "\n",
        "    if jugador == computadora:\n",
        "        print(\"¡Empate!\")\n",
        "    elif jugador == \"piedra\":\n",
        "        if computadora == \"tijera\":\n",
        "            print(\"¡Ganaste!\")\n",
        "        else:\n",
        "            print(\"¡Perdiste!\")\n",
        "    elif jugador == \"papel\":\n",
        "        if computadora == \"piedra\":\n",
        "            print(\"¡Ganaste!\")\n",
        "        else:\n",
        "            print(\"¡Perdiste!\")\n",
        "    elif jugador == \"tijera\":\n",
        "        if computadora == \"papel\":\n",
        "            print(\"¡Ganaste!\")\n",
        "        else:\n",
        "            print(\"¡Perdiste!\")\n"
      ],
      "metadata": {
        "colab": {
          "base_uri": "https://localhost:8080/"
        },
        "id": "xzDfE5XxfveD",
        "outputId": "d33c811f-c456-4526-a537-37c13a2efcca"
      },
      "execution_count": null,
      "outputs": [
        {
          "output_type": "stream",
          "name": "stdout",
          "text": [
            "Juego de Piedra, Papel, Tijera\n",
            "\n",
            "ESCRIBA BIEN SU OPCION\n",
            "Elige piedra, papel o tijera: piedra\n",
            "La computadora elige: tijera\n",
            "\n",
            "¡Ganaste!\n"
          ]
        }
      ]
    },
    {
      "cell_type": "markdown",
      "source": [
        "#### `7.- Algoritmo que sirva para el juego del CHINCHAMPU (Piedra, Papel, Tijera) para 1 jugador y la computadora, (usar selección múltiple)`"
      ],
      "metadata": {
        "id": "FMbvb_LFg3EI"
      }
    },
    {
      "cell_type": "code",
      "source": [
        "import random\n",
        "\n",
        "print(\"Juego de Piedra, Papel, Tijera\\n\")\n",
        "print(\"ESCRIBA BIEN SU OPCION\")\n",
        "\n",
        "opciones = [\"piedra\", \"papel\", \"tijera\"]\n",
        "\n",
        "jugador = input(\"Elige piedra, papel o tijera: \").lower()\n",
        "\n",
        "if jugador not in opciones:\n",
        "    print(\"Elección no válida. Por favor, elige piedra, papel o tijera.\")\n",
        "else:\n",
        "    computadora = random.choice(opciones)\n",
        "    print(f\"La computadora elige: {computadora}\\n\")\n",
        "\n",
        "    resultado = \"\"\n",
        "    if jugador == computadora:\n",
        "        resultado = \"empate\"\n",
        "    elif (jugador == \"piedra\" and computadora == \"tijera\") or \\\n",
        "         (jugador == \"tijera\" and computadora == \"papel\") or \\\n",
        "         (jugador == \"papel\" and computadora == \"piedra\"):\n",
        "        resultado = \"ganaste\"\n",
        "    else:\n",
        "        resultado = \"perdiste\"\n",
        "\n",
        "    print(f\"¡{resultado.capitalize()}!\")\n"
      ],
      "metadata": {
        "colab": {
          "base_uri": "https://localhost:8080/"
        },
        "id": "6pQ2YDBSg8pp",
        "outputId": "d06978db-2ce4-41a5-8dda-2d0d365bb6c4"
      },
      "execution_count": null,
      "outputs": [
        {
          "output_type": "stream",
          "name": "stdout",
          "text": [
            "Juego de Piedra, Papel, Tijera\n",
            "\n",
            "Elige piedra, papel o tijera: papel\n",
            "La computadora elige: piedra\n",
            "\n",
            "¡Ganaste!\n"
          ]
        }
      ]
    },
    {
      "cell_type": "markdown",
      "source": [
        "#### `8.- Una tienda de electrónica ofrece descuentos a sus clientes, dependiendo del tipo de producto que compren. Si el cliente compra una computadora, tiene un descuento del 5% en el precio de la computadora y un 10% de descuento en una impresora si la compra junto con la computadora. Si el cliente compra una televisión, tiene un descuento del 7% en el precio de la televisión y un 15% de descuento en una barra de sonido si la compra junto con la televisión. Si el cliente compra una consola de videojuegos, tiene un descuento del 10% en el precio de la consola y un 20% de descuento en un juego si lo compra junto con la consola. Escribe un programa que calcule el precio a pagar por un cliente, tomando en cuenta los descuentos correspondientes.`"
      ],
      "metadata": {
        "id": "rnSjL1HJhcMx"
      }
    },
    {
      "cell_type": "code",
      "source": [
        "precio_computadora = 1000\n",
        "precio_impresora = 200\n",
        "precio_televisor = 800\n",
        "precio_barra_sonido = 150\n",
        "precio_consola = 500\n",
        "precio_juego = 50\n",
        "\n",
        "eleccion = input(\"¿Qué producto desea comprar (computadora, televisión o consola de videojuegos)? \").lower()\n",
        "\n",
        "if eleccion == \"computadora\":\n",
        "    precio_base = precio_computadora\n",
        "elif eleccion == \"televisión\":\n",
        "    precio_base = precio_televisor\n",
        "elif eleccion == \"consola de videojuegos\":\n",
        "    precio_base = precio_consola\n",
        "else:\n",
        "    print(\"Producto no válido.\")\n",
        "    precio_base = 0\n",
        "\n",
        "descuento_adicional = 0\n",
        "if eleccion == \"computadora\":\n",
        "    if input(\"¿Desea comprar una impresora (s/n)? \").lower() == \"s\":\n",
        "        descuento_adicional += 0.10 \n",
        "elif eleccion == \"televisión\":\n",
        "    if input(\"¿Desea comprar una barra de sonido (s/n)? \").lower() == \"s\":\n",
        "        descuento_adicional += 0.15 \n",
        "elif eleccion == \"consola de videojuegos\":\n",
        "    if input(\"¿Desea comprar un juego (s/n)? \").lower() == \"s\":\n",
        "        descuento_adicional += 0.20\n",
        "\n",
        "if eleccion == \"computadora\":\n",
        "    descuento_producto = 0.05 \n",
        "elif eleccion == \"televisión\":\n",
        "    descuento_producto = 0.07 \n",
        "elif eleccion == \"consola de videojuegos\":\n",
        "    descuento_producto = 0.10 \n",
        "else:\n",
        "    descuento_producto = 0\n",
        "\n",
        "precio_final = precio_base * (1 - descuento_producto - descuento_adicional)\n",
        "\n",
        "print(f\"El precio a pagar por la {eleccion} es de ${precio_final:.2f}.\")\n"
      ],
      "metadata": {
        "colab": {
          "base_uri": "https://localhost:8080/"
        },
        "id": "h63FXi2nhlTh",
        "outputId": "dac776a3-dee0-416f-fdcc-0c1fe9b79d7e"
      },
      "execution_count": null,
      "outputs": [
        {
          "output_type": "stream",
          "name": "stdout",
          "text": [
            "¿Qué producto desea comprar (computadora, televisión o consola de videojuegos)? computadora\n",
            "¿Desea comprar una impresora (s/n)? n\n",
            "El precio a pagar por la computadora es de $950.00.\n"
          ]
        }
      ]
    },
    {
      "cell_type": "markdown",
      "source": [
        "#### `9.- En una tienda de ropa, los precios de los productos cambian dependiendo de la temporada. Durante la temporada de verano, todos los productos tienen un descuento del 20%. Durante la temporada de invierno, los productos con etiqueta roja tienen un descuento del 30% y los productos con etiqueta verde tienen un descuento del 15%. Durante la temporada de primavera y otoño, los productos con etiqueta amarilla tienen un descuento del 10%. Escribe un programa que calcule el precio a pagar por un cliente, tomando en cuenta los descuentos correspondientes.`"
      ],
      "metadata": {
        "id": "gYlsG8VJpYnS"
      }
    },
    {
      "cell_type": "code",
      "source": [
        "precio_camisa = 50\n",
        "precio_pantalon = 75\n",
        "precio_vestido = 100\n",
        "\n",
        "eleccion = input(\"¿Qué producto desea comprar (camisa, pantalón o vestido)? \").lower()\n",
        "\n",
        "temporada = input(\"¿En qué temporada se encuentra (verano, invierno, primavera u otoño)? \").lower()\n",
        "\n",
        "if eleccion == \"camisa\":\n",
        "    precio_base = precio_camisa\n",
        "elif eleccion == \"pantalón\":\n",
        "    precio_base = precio_pantalon\n",
        "elif eleccion == \"vestido\":\n",
        "    precio_base = precio_vestido\n",
        "else:\n",
        "    print(\"Producto no válido.\")\n",
        "    precio_base = 0\n",
        "\n",
        "descuento_adicional = 0\n",
        "if temporada == \"invierno\":\n",
        "    if eleccion == \"camisa\" or eleccion == \"pantalón\":\n",
        "        if input(\"¿El producto tiene etiqueta roja (s/n)? \").lower() == \"s\":\n",
        "            descuento_adicional += 0.30\n",
        "    elif eleccion == \"vestido\":\n",
        "        if input(\"¿El producto tiene etiqueta verde (s/n)? \").lower() == \"s\":\n",
        "            descuento_adicional += 0.15\n",
        "elif temporada == \"verano\":\n",
        "    descuento_adicional += 0.20 \n",
        "elif temporada == \"primavera\" or temporada == \"otoño\":\n",
        "    if input(\"¿El producto tiene etiqueta amarilla (s/n)? \").lower() == \"s\":\n",
        "        descuento_adicional += 0.10 \n",
        "\n",
        "precio_final = precio_base * (1 - descuento_adicional)\n",
        "\n",
        "print(f\"El precio a pagar por el/la {eleccion} durante la temporada de {temporada} es de ${precio_final:.2f}.\")\n"
      ],
      "metadata": {
        "colab": {
          "base_uri": "https://localhost:8080/"
        },
        "id": "6ezFIRwQpe9N",
        "outputId": "6ebffdae-3334-43b6-8d5a-d364334435aa"
      },
      "execution_count": null,
      "outputs": [
        {
          "output_type": "stream",
          "name": "stdout",
          "text": [
            "¿Qué producto desea comprar (camisa, pantalón o vestido)? vestido\n",
            "¿En qué temporada se encuentra (verano, invierno, primavera u otoño)? otoño\n",
            "¿El producto tiene etiqueta amarilla (s/n)? n\n",
            "El precio a pagar por el vestido durante la temporada de otoño es de $100.00.\n"
          ]
        }
      ]
    },
    {
      "cell_type": "markdown",
      "source": [
        "#### `10.- Un restaurante ofrece descuentos a sus clientes, dependiendo del día de la semana y del tipo de menú que pidan. Los lunes, los clientes que pidan el menú del día tienen un descuento del 10%. Los martes, los clientes que pidan el menú infantil tienen un descuento del 20%. Los miércoles, los clientes que pidan el menú vegetariano tienen un descuento del 15%. Los jueves, los clientes que pidan el menú del chef tienen un descuento del 5%. Los viernes, los clientes que pidan el menú del día tienen un descuento del 5%. Los sábados y domingos no hay descuentos. Escribe un programa que calcule el precio a pagar por un cliente, tomando en cuenta los descuentos correspondientes.`"
      ],
      "metadata": {
        "id": "1wy_ugSirCbq"
      }
    },
    {
      "cell_type": "code",
      "source": [
        "menu = input(\"Ingrese el tipo de menú (día, infantil, vegetariano, chef): \")\n",
        "dia = input(\"Ingrese el día de la semana: \")\n",
        "\n",
        "precio = 0\n",
        "descuento = 0\n",
        "\n",
        "if dia == \"lunes\" and menu == \"día\":\n",
        "    precio = 10\n",
        "    descuento = 0.1\n",
        "elif dia == \"martes\" and menu == \"infantil\":\n",
        "    precio = 5\n",
        "    descuento = 0.2\n",
        "elif dia == \"miércoles\" and menu == \"vegetariano\":\n",
        "    precio = 8\n",
        "    descuento = 0.15\n",
        "elif dia == \"jueves\" and menu == \"chef\":\n",
        "    precio = 20\n",
        "    descuento = 0.05\n",
        "elif dia == \"viernes\" and menu == \"día\":\n",
        "    precio = 10\n",
        "    descuento = 0.05\n",
        "else:\n",
        "    precio = 15\n",
        "\n",
        "precio_descuento = precio - (precio * descuento)\n",
        "print(\"El precio a pagar es: $\", precio_descuento)\n"
      ],
      "metadata": {
        "colab": {
          "base_uri": "https://localhost:8080/"
        },
        "id": "ScyHxW0ArITq",
        "outputId": "4b6e0654-e875-4fbb-e2b1-84e3e45e715b"
      },
      "execution_count": null,
      "outputs": [
        {
          "output_type": "stream",
          "name": "stdout",
          "text": [
            "Ingrese el tipo de menú (día, infantil, vegetariano, chef): infantil\n",
            "Ingrese el día de la semana: martes\n",
            "El precio a pagar es: $ 4.0\n"
          ]
        }
      ]
    }
  ]
}