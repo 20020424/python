{
  "nbformat": 4,
  "nbformat_minor": 0,
  "metadata": {
    "colab": {
      "provenance": [],
      "authorship_tag": "ABX9TyNOWX96eqdddyURsgscU+5A",
      "include_colab_link": true
    },
    "kernelspec": {
      "name": "python3",
      "display_name": "Python 3"
    },
    "language_info": {
      "name": "python"
    }
  },
  "cells": [
    {
      "cell_type": "markdown",
      "metadata": {
        "id": "view-in-github",
        "colab_type": "text"
      },
      "source": [
        "<a href=\"https://colab.research.google.com/github/20020424/python/blob/main/Ejemplo1.ipynb\" target=\"_parent\"><img src=\"https://colab.research.google.com/assets/colab-badge.svg\" alt=\"Open In Colab\"/></a>"
      ]
    },
    {
      "cell_type": "markdown",
      "source": [
        "# MI PRIMER PROGRAMA EN PYTHON CON COLABORATORY\n",
        "\n",
        "*   usar colaboratory\n",
        "*   git hub\n",
        "*   la sentencia de salida print\n",
        "\n",
        "\n"
      ],
      "metadata": {
        "id": "OpVeSgn6yvwL"
      }
    },
    {
      "cell_type": "code",
      "execution_count": 2,
      "metadata": {
        "colab": {
          "base_uri": "https://localhost:8080/"
        },
        "id": "ud9O_nFGxu2N",
        "outputId": "52028b4b-05b9-4b1a-8602-fcd6618e6a44"
      },
      "outputs": [
        {
          "output_type": "stream",
          "name": "stdout",
          "text": [
            "Hola mundo\n"
          ]
        }
      ],
      "source": [
        "print(\"Hola mundo\")"
      ]
    },
    {
      "cell_type": "code",
      "source": [
        "print (\"NANCY MARIA SIQUEIROS CHAVEZ\")"
      ],
      "metadata": {
        "colab": {
          "base_uri": "https://localhost:8080/"
        },
        "id": "m1VUpv5T0IKH",
        "outputId": "69dd4fc8-ac83-4dee-dc01-e0d221bb6e24"
      },
      "execution_count": 4,
      "outputs": [
        {
          "output_type": "stream",
          "name": "stdout",
          "text": [
            "NANCY MARIA SIQUEIROS CHAVEZ\n"
          ]
        }
      ]
    }
  ]
}