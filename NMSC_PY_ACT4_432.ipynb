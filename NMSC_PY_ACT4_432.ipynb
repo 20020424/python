{
  "nbformat": 4,
  "nbformat_minor": 0,
  "metadata": {
    "colab": {
      "provenance": [],
      "authorship_tag": "ABX9TyPtZ0uUVM+DX6WblkW6fWhy",
      "include_colab_link": true
    },
    "kernelspec": {
      "name": "python3",
      "display_name": "Python 3"
    },
    "language_info": {
      "name": "python"
    }
  },
  "cells": [
    {
      "cell_type": "markdown",
      "metadata": {
        "id": "view-in-github",
        "colab_type": "text"
      },
      "source": [
        "<a href=\"https://colab.research.google.com/github/20020424/python/blob/main/NMSC_PY_ACT4_432.ipynb\" target=\"_parent\"><img src=\"https://colab.research.google.com/assets/colab-badge.svg\" alt=\"Open In Colab\"/></a>"
      ]
    },
    {
      "cell_type": "markdown",
      "source": [
        "## `PROGRAMAS UTILIZANDO TRY-EXCEPT Y FUNCIONES`"
      ],
      "metadata": {
        "id": "jg9x9CqXMB54"
      }
    },
    {
      "cell_type": "markdown",
      "source": [
        "#### `1.- Programa en python   que lea 3 calificaciones calcule el promedio del alumno`"
      ],
      "metadata": {
        "id": "q9jvA3DT6muz"
      }
    },
    {
      "cell_type": "code",
      "execution_count": null,
      "metadata": {
        "id": "1TyjTIHb6lPn",
        "colab": {
          "base_uri": "https://localhost:8080/"
        },
        "outputId": "c8455667-2a14-4d86-fa4d-3593580da3ba"
      },
      "outputs": [
        {
          "output_type": "stream",
          "name": "stdout",
          "text": [
            "Ingrese la primera calificacion:85\n",
            "Ingrese la segunda calificacion:78\n",
            "Ingrese la tercera calificacion:lkm\n",
            "Error: Los valores ingresados deben ser números enteros.\n"
          ]
        }
      ],
      "source": [
        "calif1 = input(\"Ingrese la primera calificacion:\")\n",
        "calif2 = input(\"Ingrese la segunda calificacion:\")\n",
        "calif3 = input(\"Ingrese la tercera calificacion:\")\n",
        "\n",
        "try:\n",
        "    promedio = int(calif1 + calif2 + calif3) / 3\n",
        "\n",
        "    if promedio < 30:\n",
        "        print(\"Repetir\")\n",
        "    elif promedio >= 30 and promedio < 60:\n",
        "        print(\"Extraordinario\")\n",
        "    elif promedio >= 60 and promedio < 70:\n",
        "        print(\"Suficiente\")\n",
        "    elif promedio >= 70 and promedio < 80:\n",
        "        print(\"Regular\")\n",
        "    elif promedio >= 80 and promedio < 90:\n",
        "        print(\"Bien\")\n",
        "    elif promedio >= 90 and promedio < 98:\n",
        "        print(\"Muy bien\")\n",
        "    elif promedio >= 98 and promedio <= 100:\n",
        "        print(\"Excelente\")  \n",
        "except ValueError:\n",
        "    print(\"Error: Los valores ingresados deben ser números enteros.\")\n"
      ]
    },
    {
      "cell_type": "markdown",
      "source": [
        "#### `4- En la materia de Metodología de la programación se aplican 5 exámenes, calcular el promedio final de la materia donde la calificación menor de los exámenes se anula y el promedio se calcula en base a 4 exámenes.`"
      ],
      "metadata": {
        "id": "hyD5Ku0cvAa-"
      }
    },
    {
      "cell_type": "code",
      "source": [
        "try:\n",
        "    calif1 = int(input(\"Ingrese la calificacion del primer examen: \"))\n",
        "    calif2 = int(input(\"Ingrese la calificacion del segundo examen:\"))\n",
        "    calif3 = int(input(\"Ingrese la calificacion del tercer examen: \"))\n",
        "    calif4 = int(input(\"Ingrese la calificacion del cuarto examen: \"))\n",
        "    calif5 = int(input(\"Ingrese la calificacion del quinto examen: \"))\n",
        "    calif_menor = min(calif1, calif2, calif3, calif4, calif5)\n",
        "\n",
        "    promedio_final = (calif1 + calif2 + calif3 + calif4 + calif5 - calif_menor) / 4\n",
        "    round(promedio_final, 1)\n",
        "\n",
        "    print(\"El promedio final es:\", promedio_final)\n",
        "    print(\"La calificacion anulada fue:\", calif_menor)\n",
        "\n",
        "except:\n",
        "    print(\"Ingrese numeros, no letras\")"
      ],
      "metadata": {
        "id": "DA6WYNc3vKSi",
        "colab": {
          "base_uri": "https://localhost:8080/"
        },
        "outputId": "1bdd015f-cfc4-4a85-db68-cab54b84b3a8"
      },
      "execution_count": 23,
      "outputs": [
        {
          "output_type": "stream",
          "name": "stdout",
          "text": [
            "Ingrese la calificacion del primer examen: 98\n",
            "Ingrese la calificacion del segundo examen:87\n",
            "Ingrese la calificacion del tercer examen: 36\n",
            "Ingrese la calificacion del cuarto examen: 85\n",
            "Ingrese la calificacion del quinto examen: ñ\n",
            "Ingrese numeros, no letras\n"
          ]
        }
      ]
    },
    {
      "cell_type": "markdown",
      "source": [
        "#### `7.- Programa en Python que sirva para calcular el área de un triangulo, los datos de entrada deben ser forzosamente de tipo real`"
      ],
      "metadata": {
        "id": "V2fvvQTuPLbT"
      }
    },
    {
      "cell_type": "code",
      "source": [
        "while True:\n",
        "    try:\n",
        "        base = float(input(\"Ingrese la base del triángulo: \"))\n",
        "        altura = float(input(\"Ingrese la altura del triángulo: \"))\n",
        "        break\n",
        "    except ValueError:\n",
        "        print(\"Error: Ingrese solo números reales\")\n",
        "\n",
        "area = 0.5 * base * altura\n",
        "print(\"El área del triángulo es:\", area)\n"
      ],
      "metadata": {
        "colab": {
          "base_uri": "https://localhost:8080/"
        },
        "id": "y-sGIg2RPRlg",
        "outputId": "251cbc12-eaaa-4ca5-bd5d-2f585d95b6d2"
      },
      "execution_count": 17,
      "outputs": [
        {
          "output_type": "stream",
          "name": "stdout",
          "text": [
            "Ingrese la base del triángulo: 8.6\n",
            "Ingrese la altura del triángulo: 12.6\n",
            "El área del triángulo es: 54.18\n"
          ]
        }
      ]
    },
    {
      "cell_type": "markdown",
      "source": [
        "#### `8.- Programa en Python que sirva para calcular el área de un circulo`"
      ],
      "metadata": {
        "id": "vsbFmeLQPeoe"
      }
    },
    {
      "cell_type": "code",
      "source": [
        "import math\n",
        "\n",
        "while True:\n",
        "    try:\n",
        "        radio = float(input(\"Ingrese el radio del círculo: \"))\n",
        "        break\n",
        "    except ValueError:\n",
        "        print(\"Error: Ingrese solo un número real\")\n",
        "\n",
        "area = math.pi * radio**2\n",
        "print(\"El área del círculo es:\", area)"
      ],
      "metadata": {
        "colab": {
          "base_uri": "https://localhost:8080/"
        },
        "id": "UtV0YAu2PobR",
        "outputId": "4023e0f6-208b-490c-dcbe-3cbabee7028f"
      },
      "execution_count": 21,
      "outputs": [
        {
          "output_type": "stream",
          "name": "stdout",
          "text": [
            "Ingrese el radio del círculo: 9\n",
            "El área del círculo es: 254.46900494077323\n"
          ]
        }
      ]
    }
  ]
}