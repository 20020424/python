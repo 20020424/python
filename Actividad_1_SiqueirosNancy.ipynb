{
  "nbformat": 4,
  "nbformat_minor": 0,
  "metadata": {
    "colab": {
      "provenance": [],
      "authorship_tag": "ABX9TyMURi2+77or5DaITUs9yaD6",
      "include_colab_link": true
    },
    "kernelspec": {
      "name": "python3",
      "display_name": "Python 3"
    },
    "language_info": {
      "name": "python"
    }
  },
  "cells": [
    {
      "cell_type": "markdown",
      "metadata": {
        "id": "view-in-github",
        "colab_type": "text"
      },
      "source": [
        "<a href=\"https://colab.research.google.com/github/20020424/python/blob/main/Actividad_1_SiqueirosNancy.ipynb\" target=\"_parent\"><img src=\"https://colab.research.google.com/assets/colab-badge.svg\" alt=\"Open In Colab\"/></a>"
      ]
    },
    {
      "cell_type": "markdown",
      "source": [
        "# 1- `Programa en Python Mostrar un mensaje que diga “HOLA MUNDO” en un solo renglón usando 2 print`"
      ],
      "metadata": {
        "id": "2K6vYjZhKhb4"
      }
    },
    {
      "cell_type": "code",
      "execution_count": 4,
      "metadata": {
        "colab": {
          "base_uri": "https://localhost:8080/"
        },
        "id": "Q2Uxk4XtKYed",
        "outputId": "695c46e7-5d8d-48de-f34a-ae09bdda844d"
      },
      "outputs": [
        {
          "output_type": "stream",
          "name": "stdout",
          "text": [
            "HOLA MUNDO\n"
          ]
        }
      ],
      "source": [
        "print(\"HO\", end=\"\"); print(\"LA MUNDO\");"
      ]
    },
    {
      "cell_type": "markdown",
      "source": [
        "# 2.- `Programa en Python que lea 2 números, realizar la suma y desplegar la suma de los 2 números`"
      ],
      "metadata": {
        "id": "DC4gYi18V9BG"
      }
    },
    {
      "cell_type": "code",
      "source": [
        "num1 = int(input(\"Ingresa el primer número: \"))\n",
        "\n",
        "num2 = int(input(\"Ingresa el segundo número: \"))\n",
        "\n",
        "resultado = num1 + num2\n",
        "\n",
        "print(\"La suma de los dos números es:\", resultado)"
      ],
      "metadata": {
        "colab": {
          "base_uri": "https://localhost:8080/"
        },
        "id": "HvHzDTgFWvCj",
        "outputId": "64e677e7-78a1-4bbc-f716-28701812e454"
      },
      "execution_count": 6,
      "outputs": [
        {
          "output_type": "stream",
          "name": "stdout",
          "text": [
            "Ingresa el primer número: 6\n",
            "Ingresa el segundo número: 6\n",
            "La suma de los dos números es: 12\n"
          ]
        }
      ]
    },
    {
      "cell_type": "markdown",
      "source": [
        "# 3.- `Programa en Python que lea 2 números y realice las 4 operaciones básicas`"
      ],
      "metadata": {
        "id": "GL36F3G-XNh1"
      }
    },
    {
      "cell_type": "code",
      "source": [
        "num1 = int(input(\"Ingresa el primer número: \"))\n",
        "\n",
        "num2 = int(input(\"Ingresa el segundo número: \"))\n",
        "\n",
        "suma = num1 + num2\n",
        "resta = num1 - num2\n",
        "multiplicacion = num1 * num2\n",
        "division = num1 / num2\n",
        "\n",
        "print(\"La suma de los dos números es:\", suma)\n",
        "print(\"La resta de los dos números es:\", resta)\n",
        "print(\"La multiplicación de los dos números es:\", multiplicacion)\n",
        "print(\"La división de los dos números es:\", division)"
      ],
      "metadata": {
        "colab": {
          "base_uri": "https://localhost:8080/"
        },
        "id": "3owHwL_YXXCI",
        "outputId": "41923c21-8c1a-4195-e4af-cb08c4a80f1a"
      },
      "execution_count": 7,
      "outputs": [
        {
          "output_type": "stream",
          "name": "stdout",
          "text": [
            "Ingresa el primer número: 10\n",
            "Ingresa el segundo número: 2\n",
            "La suma de los dos números es: 12\n",
            "La resta de los dos números es: 8\n",
            "La multiplicación de los dos números es: 20\n",
            "La división de los dos números es: 5.0\n"
          ]
        }
      ]
    },
    {
      "cell_type": "markdown",
      "source": [
        "# 4.- `Programa en Python Que sirva para calcular el área de un triángulo`"
      ],
      "metadata": {
        "id": "ozVzDR35Xzw8"
      }
    },
    {
      "cell_type": "code",
      "source": [
        "base = float(input(\"Ingresa la base del triángulo: \"))\n",
        "\n",
        "altura = float(input(\"Ingresa la altura del triángulo: \"))\n",
        "\n",
        "area = (base * altura) / 2\n",
        "\n",
        "print(\"El área del triángulo es:\", area)"
      ],
      "metadata": {
        "colab": {
          "base_uri": "https://localhost:8080/"
        },
        "id": "GYfH0vaVX-at",
        "outputId": "c435557d-72c8-47fd-a1ba-34c04843c9b8"
      },
      "execution_count": 10,
      "outputs": [
        {
          "output_type": "stream",
          "name": "stdout",
          "text": [
            "Ingresa la base del triángulo: 5.6\n",
            "Ingresa la altura del triángulo: 7.9\n",
            "El área del triángulo es: 22.12\n"
          ]
        }
      ]
    },
    {
      "cell_type": "markdown",
      "source": [
        "# 5.- `Programa en Python que lea una medida en centímetros y desplegar la misma medida pero convertida en pies y pulgadas`"
      ],
      "metadata": {
        "id": "EoytX_DTZJnR"
      }
    },
    {
      "cell_type": "code",
      "source": [
        "#conversión\n",
        "CENTIMETROS_POR_PIE = 0.0328084\n",
        "CENTIMETROS_POR_PULGADA =  0.393701\n",
        "\n",
        "#medida en centímetros\n",
        "centimetros = float(input(\"Ingresa la medida en centímetros: \"))\n",
        "\n",
        "# Conversion a pulgadas\n",
        "pulgadas = centimetros * CENTIMETROS_POR_PULGADA\n",
        "\n",
        "# Conversion a pies\n",
        "pies = centimetros * CENTIMETROS_POR_PIE\n",
        "\n",
        "print(\"La medida en pies es:\", pies, \"y\", pulgadas, \"pulgadas\")"
      ],
      "metadata": {
        "colab": {
          "base_uri": "https://localhost:8080/"
        },
        "id": "-Aq-4-f3ZPkT",
        "outputId": "c9aa57f9-f6c2-4eae-c64d-fc8c99db7c7f"
      },
      "execution_count": 14,
      "outputs": [
        {
          "output_type": "stream",
          "name": "stdout",
          "text": [
            "Ingresa la medida en centímetros: 170\n",
            "La medida en pies es: 5.577428 y 66.92917 pulgadas\n"
          ]
        }
      ]
    },
    {
      "cell_type": "markdown",
      "source": [
        "# 6.- `Programa en Python que lea una temperatura en grados centígrados y desplegarla en Grados Fahrenheit y grados kelvin`\n",
        "\n"
      ],
      "metadata": {
        "id": "6V3o8Po2abwd"
      }
    },
    {
      "cell_type": "code",
      "source": [
        "# conversión\n",
        "CENTIGRADOS_A_K = 273.15\n",
        "\n",
        "#temperatura en grados centígrados\n",
        "centigrados = float(input(\"Ingresa la temperatura en grados centígrados: \"))\n",
        "\n",
        "# Conversion a grados Fahrenheit\n",
        "fahrenheit = (centigrados * 9/5) + 32\n",
        "\n",
        "# Conversion a grados kelvin\n",
        "kelvin = centigrados + CENTIGRADOS_A_K\n",
        "\n",
        "print(\"La temperatura en grados Fahrenheit es:\", fahrenheit)\n",
        "print(\"La temperatura en grados kelvin es:\", kelvin)\n"
      ],
      "metadata": {
        "colab": {
          "base_uri": "https://localhost:8080/"
        },
        "id": "uuMesEjMalOk",
        "outputId": "ad574655-5ba7-4d52-caeb-45f810377d64"
      },
      "execution_count": 17,
      "outputs": [
        {
          "output_type": "stream",
          "name": "stdout",
          "text": [
            "Ingresa la temperatura en grados centígrados: 33\n",
            "La temperatura en grados Fahrenheit es: 91.4\n",
            "La temperatura en grados kelvin es: 306.15\n"
          ]
        }
      ]
    },
    {
      "cell_type": "markdown",
      "source": [
        "# 7.- `Programa en Python que lea 4 calificaciones de un alumno, desplegar el promedio del alumno`"
      ],
      "metadata": {
        "id": "uo6ULPuggx7W"
      }
    },
    {
      "cell_type": "code",
      "source": [
        "calf_1 = float(input(\"Ingresa la calificación 1: \"))\n",
        "calf_2 = float(input(\"Ingresa la calificación 2: \"))\n",
        "calf_3 = float(input(\"Ingresa la calificación 3: \"))\n",
        "calf_4 = float(input(\"Ingresa la calificación 4: \"))\n",
        "\n",
        "promedio = (calf_1 + calf_2 + calf_3 + calf_4) / 4\n",
        "\n",
        "print(\"El promedio del alumno es:\", promedio)\n"
      ],
      "metadata": {
        "colab": {
          "base_uri": "https://localhost:8080/"
        },
        "id": "2NWl-g75g4uq",
        "outputId": "6ec3ff3d-e5de-4820-9956-21eeec9b6bab"
      },
      "execution_count": 18,
      "outputs": [
        {
          "output_type": "stream",
          "name": "stdout",
          "text": [
            "Ingresa la calificación 1: 88.6\n",
            "Ingresa la calificación 2: 91.3\n",
            "Ingresa la calificación 3: 78.6\n",
            "Ingresa la calificación 4: 86.1\n",
            "El promedio del alumno es: 86.15\n"
          ]
        }
      ]
    }
  ]
}