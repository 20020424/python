{
  "nbformat": 4,
  "nbformat_minor": 0,
  "metadata": {
    "colab": {
      "provenance": [],
      "authorship_tag": "ABX9TyOy3r4eZ2fhOeF0DywGZMF5",
      "include_colab_link": true
    },
    "kernelspec": {
      "name": "python3",
      "display_name": "Python 3"
    },
    "language_info": {
      "name": "python"
    }
  },
  "cells": [
    {
      "cell_type": "markdown",
      "metadata": {
        "id": "view-in-github",
        "colab_type": "text"
      },
      "source": [
        "<a href=\"https://colab.research.google.com/github/20020424/python/blob/main/NMSC_PY_ACT2_432.ipynb\" target=\"_parent\"><img src=\"https://colab.research.google.com/assets/colab-badge.svg\" alt=\"Open In Colab\"/></a>"
      ]
    },
    {
      "cell_type": "markdown",
      "source": [
        "# `PROGRAMAS CON CONDICIONES SIMPLES`"
      ],
      "metadata": {
        "id": "7_a-BFWCS7Xr"
      }
    },
    {
      "cell_type": "markdown",
      "source": [
        "### `1.- Programa en Python que lea 2 números enteros, usar una condición y analizar los dos números y desplegar cual de los números es el mayor. `"
      ],
      "metadata": {
        "id": "tyHpSPUo32Bk"
      }
    },
    {
      "cell_type": "code",
      "execution_count": 47,
      "metadata": {
        "colab": {
          "base_uri": "https://localhost:8080/"
        },
        "id": "54xVYH0D3fQk",
        "outputId": "989812f3-cef4-4d01-c395-b4b239739279"
      },
      "outputs": [
        {
          "output_type": "stream",
          "name": "stdout",
          "text": [
            "Ingresa el primer número entero: 25\n",
            "Ingresa el segundo número entero: 24\n",
            "25 es mayor que 24\n"
          ]
        }
      ],
      "source": [
        "num1 = int(input(\"Ingresa el primer número entero: \"))\n",
        "num2 = int(input(\"Ingresa el segundo número entero: \"))\n",
        "\n",
        "if num1 > num2:\n",
        "    print(num1, \"es mayor que\", num2)\n",
        "if num2 > num1:\n",
        "    print(num2, \"es mayor que\", num1)\n"
      ]
    },
    {
      "cell_type": "markdown",
      "source": [
        "### `2.- Programa en Python que lea 4 calificaciones de un alumno, calcular y desplegar el promedio acompañado de la leyenda \"APROBADO\" o \"REPROBADO\"`"
      ],
      "metadata": {
        "id": "q09FVux26CRj"
      }
    },
    {
      "cell_type": "code",
      "source": [
        "\n",
        "calif1 = float(input(\"Ingrese la primera calificacion: \"))\n",
        "calif2 = float(input(\"Ingrese la segunda calificacion: \"))\n",
        "calif3 = float(input(\"Ingrese la tercera calificacion: \"))\n",
        "calif4 = float(input(\"Ingrese la cuarta calificacion: \"))\n",
        "\n",
        "promedio = (calif1 + calif2 + calif3 + calif4) / 4\n",
        "\n",
        "if promedio >= 60:\n",
        "    print(\"El alumno aprobo con un promedio de\", promedio)\n",
        "if promedio < 60:\n",
        "    print(\"El alumno reprobo con un promedio de\", promedio)\n"
      ],
      "metadata": {
        "colab": {
          "base_uri": "https://localhost:8080/"
        },
        "id": "XYWu3n0b6aOS",
        "outputId": "56177c85-c642-4f0b-f2b6-96a8cabbd4cf"
      },
      "execution_count": 50,
      "outputs": [
        {
          "output_type": "stream",
          "name": "stdout",
          "text": [
            "Ingrese la primera calificacion: 60.3\n",
            "Ingrese la segunda calificacion: 55.3\n",
            "Ingrese la tercera calificacion: 40.9\n",
            "Ingrese la cuarta calificacion: 55.3\n",
            "El alumno reprobo con un promedio de 52.95\n"
          ]
        }
      ]
    },
    {
      "cell_type": "markdown",
      "source": [
        "### `3.- Programa en Python que a través de opciones (1.- HOMBRE 2.- MUJER ) preguntar al usuario cual es su sexo y desplegar la leyenda “HOMBRE ”, “MUJER”`"
      ],
      "metadata": {
        "id": "-vVG3C767bJb"
      }
    },
    {
      "cell_type": "code",
      "source": [
        "sexo = int(input(\"¿Eres HOMBRE o MUJER? (1 para HOMBRE, 2 para MUJER): \"))\n",
        "\n",
        "if sexo == 1:\n",
        "    print(\"Eres HOMBRE\")\n",
        "if sexo == 2:\n",
        "    print(\"Eres MUJER\")\n"
      ],
      "metadata": {
        "colab": {
          "base_uri": "https://localhost:8080/"
        },
        "id": "2kxpKt4GNefW",
        "outputId": "11924185-88aa-4fdd-ed4f-e98b82845e32"
      },
      "execution_count": 51,
      "outputs": [
        {
          "output_type": "stream",
          "name": "stdout",
          "text": [
            "¿Eres HOMBRE o MUJER? (1 para HOMBRE, 2 para MUJER): 2\n",
            "Eres MUJER\n"
          ]
        }
      ]
    },
    {
      "cell_type": "markdown",
      "source": [
        "### `4.- Programa en Python que lea un número entero, y desplegar si el número es “PAR” o “IMPAR”`"
      ],
      "metadata": {
        "id": "931QqsZB9URN"
      }
    },
    {
      "cell_type": "code",
      "source": [
        "numero = int(input(\"Ingresa un número entero: \"))\n",
        "\n",
        "if numero % 2 == 0:\n",
        "    print(numero, \"es un número PAR\")\n",
        "if numero % 2 == 1:\n",
        "    print(numero, \"es un número IMPAR\")\n"
      ],
      "metadata": {
        "colab": {
          "base_uri": "https://localhost:8080/"
        },
        "id": "inAExrGk9bY6",
        "outputId": "a9cd3c7e-f5af-4af9-b0da-028908c63453"
      },
      "execution_count": 52,
      "outputs": [
        {
          "output_type": "stream",
          "name": "stdout",
          "text": [
            "Ingresa un número entero: 6\n",
            "6 es un número PAR\n"
          ]
        }
      ]
    },
    {
      "cell_type": "markdown",
      "source": [
        "# `PROGRAMAS CON CONDICIONES COMPUESTAS`"
      ],
      "metadata": {
        "id": "ZhKrjzo9S0A5"
      }
    },
    {
      "cell_type": "markdown",
      "source": [
        "### `5.- Programa en Python que lea 2 números enteros, usar una condición y analizar los dos números y desplegar cual de los números es el mayor.`"
      ],
      "metadata": {
        "id": "oLfBei0ZLcbq"
      }
    },
    {
      "cell_type": "code",
      "source": [
        "numero1 = int(input(\"Ingresa el primer número: \"))\n",
        "numero2 = int(input(\"Ingresa el segundo número: \"))\n",
        "\n",
        "if numero1 > numero2:\n",
        "    print(\"El primer número es mayor.\")\n",
        "elif numero2 > numero1:\n",
        "    print(\"El segundo número es mayor.\")\n",
        "else:\n",
        "    print(\"Los dos números son iguales.\")\n"
      ],
      "metadata": {
        "colab": {
          "base_uri": "https://localhost:8080/"
        },
        "id": "LKLa9FLKLkX_",
        "outputId": "b95c7917-5ba7-4402-c66b-f7d1f0d04bd4"
      },
      "execution_count": 13,
      "outputs": [
        {
          "output_type": "stream",
          "name": "stdout",
          "text": [
            "Ingresa el primer número: 100\n",
            "Ingresa el segundo número: 20\n",
            "El primer número es mayor.\n"
          ]
        }
      ]
    },
    {
      "cell_type": "markdown",
      "source": [
        "### `6.- Programa en Python que lea 4 calificaciones de un alumno, calcular y desplegar el promedio acompañado de la leyenda APROBADO o REPROBADO`"
      ],
      "metadata": {
        "id": "1wGwTV5oNCoa"
      }
    },
    {
      "cell_type": "code",
      "source": [
        "calif1 = float(input(\"Ingresa la primera calificación: \"))\n",
        "calif2 = float(input(\"Ingresa la segunda calificación: \"))\n",
        "calif3 = float(input(\"Ingresa la tercera calificación: \"))\n",
        "calif4 = float(input(\"Ingresa la cuarta calificación: \"))\n",
        "\n",
        "promedio = (calif1 + calif2 + calif3 + calif4) / 4\n",
        "\n",
        "if promedio >= 70:\n",
        "    print(\"El alumno está APROBADO con un promedio de\", promedio)\n",
        "elif promedio >= 60:\n",
        "    print(\"El alumno está en RECUPERACIÓN con un promedio de\", promedio)\n",
        "else:\n",
        "    print(\"El alumno está REPROBADO con un promedio de\", promedio)\n",
        "\n"
      ],
      "metadata": {
        "colab": {
          "base_uri": "https://localhost:8080/"
        },
        "id": "igc8Qh2ZNIwY",
        "outputId": "426e6043-806a-4f93-f1e3-ee249d84e29e"
      },
      "execution_count": 33,
      "outputs": [
        {
          "output_type": "stream",
          "name": "stdout",
          "text": [
            "Ingresa la primera calificación: 55\n",
            "Ingresa la segunda calificación: 79\n",
            "Ingresa la tercera calificación: 88\n",
            "Ingresa la cuarta calificación: 96\n",
            "El alumno está APROBADO con un promedio de 79.5\n"
          ]
        }
      ]
    },
    {
      "cell_type": "markdown",
      "source": [
        "### `7.- Programa en Python que a través de opciones (1.- HOMBRE 2.- MUJER ) preguntar al usuario cual es su sexo y desplegar la leyenda “HOMBRE ”, “MUJER”`"
      ],
      "metadata": {
        "id": "TmNHI5AmNLt8"
      }
    },
    {
      "cell_type": "code",
      "source": [
        "print(\"Elija una opción:\")\n",
        "print(\"1.- HOMBRE\")\n",
        "print(\"2.- MUJER\")\n",
        "opcion = int(input(\"Ingrese el número correspondiente a su sexo: \"))\n",
        "\n",
        "if opcion == 1:\n",
        "    print(\"HOMBRE\")\n",
        "elif opcion == 2:\n",
        "    print(\"MUJER\")\n",
        "else:\n",
        "    print(\"Opción inválida. Ingrese 1 para HOMBRE o 2 para MUJER.\")"
      ],
      "metadata": {
        "colab": {
          "base_uri": "https://localhost:8080/"
        },
        "id": "jiRJCoSCNRE-",
        "outputId": "4a90436e-7bb7-4d57-d34c-59893bf10da8"
      },
      "execution_count": 32,
      "outputs": [
        {
          "output_type": "stream",
          "name": "stdout",
          "text": [
            "Elija una opción:\n",
            "1.- HOMBRE\n",
            "2.- MUJER\n",
            "Ingrese el número correspondiente a su sexo: 2\n",
            "MUJER\n"
          ]
        }
      ]
    },
    {
      "cell_type": "markdown",
      "source": [
        "### `8.- Programa en Python que lea un número entero, y desplegar si el número es “PAR” o “IMPAR”.`"
      ],
      "metadata": {
        "id": "XiGtYulFP1bW"
      }
    },
    {
      "cell_type": "code",
      "source": [
        "numero = int(input(\"Ingresa un número entero: \"))\n",
        "\n",
        "if numero % 2 == 0:\n",
        "    print(numero, \"es un número par\")\n",
        "elif numero % 2 != 0:\n",
        "    print(numero, \"es un número impar\")\n"
      ],
      "metadata": {
        "colab": {
          "base_uri": "https://localhost:8080/"
        },
        "id": "xyGYli9gQB4K",
        "outputId": "6d746577-92b7-41f1-b882-c5beea6159fd"
      },
      "execution_count": 43,
      "outputs": [
        {
          "output_type": "stream",
          "name": "stdout",
          "text": [
            "Ingresa un número entero: -25\n",
            "-25 es un número impar\n"
          ]
        }
      ]
    }
  ]
}