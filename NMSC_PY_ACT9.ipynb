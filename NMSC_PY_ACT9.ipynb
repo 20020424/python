{
  "nbformat": 4,
  "nbformat_minor": 0,
  "metadata": {
    "colab": {
      "provenance": [],
      "authorship_tag": "ABX9TyNzwMfzgTUtKlIUaxnvDleK",
      "include_colab_link": true
    },
    "kernelspec": {
      "name": "python3",
      "display_name": "Python 3"
    },
    "language_info": {
      "name": "python"
    }
  },
  "cells": [
    {
      "cell_type": "markdown",
      "metadata": {
        "id": "view-in-github",
        "colab_type": "text"
      },
      "source": [
        "<a href=\"https://colab.research.google.com/github/20020424/python/blob/main/NMSC_PY_ACT9.ipynb\" target=\"_parent\"><img src=\"https://colab.research.google.com/assets/colab-badge.svg\" alt=\"Open In Colab\"/></a>"
      ]
    },
    {
      "cell_type": "code",
      "execution_count": null,
      "metadata": {
        "id": "B4PlZOb29WEL"
      },
      "outputs": [],
      "source": [
        "from IPython.display import clear_output\n",
        "import random "
      ]
    },
    {
      "cell_type": "code",
      "source": [
        " def hacer_dict():\n",
        "     reg = [\"MATRICULA\", \"NOMBRE(S)\", \"AP_PATERNO\", \"AP_MATERNO\", \"EDAD\", \"SEXO\"]\n",
        "     matri = [368911,368747,368933,366239, 346176, 369226, 369196]\n",
        "     nombres = [\"Marcelo\", \"Isai Alexis\", \"Samantha\", \"Nancy Maria\", \"Gerardo\", \"Jose Abraham\", \"Christian\"]\n",
        "     appat = [\"Marquez\",\"Arredondo\",\"Perez\", \"Siqueiros\", \"Yepez\", \"Beristain\", \"Cardenaz\"]\n",
        "     apmat = [\"Ontiveros\",\"Urbalejo\",\"Peña\", \"Chavez\", \"Tsuchida\", \"Navarro\", \"Quiroz\"]\n",
        "     edad = [19,21,20,20, 27,19,21]\n",
        "     sexo=[\"H\",\"H\",\"M\",\"M\",\"H\", \"H\", \"H\"]\n",
        "     nrandom=random.randint(0,6)\n",
        "     dic = dict(zip(reg,[matri[nrandom],nombres[nrandom],appat[nrandom],apmat[nrandom],edad[nrandom],sexo[nrandom]]))\n",
        "     print(\"Se creo el diccionario\")\n",
        "     return dic"
      ],
      "metadata": {
        "id": "2Mb3Nw5JR8d0"
      },
      "execution_count": 25,
      "outputs": []
    },
    {
      "cell_type": "code",
      "source": [
        "def impr_dic(dic):\n",
        "    print(\"{:<20}{:<20}{:<20}{:<20}{:<20}{}\".format(\"MATRICULA\",\"NOMBRE(S)\",\"AP_PATERNO\",\"AP_MATERNO\",\"EDAD\",\"SEXO\"))\n",
        "    print(\"{:<20}{:<20}{:<20}{:<20}{:<20}{}\".format(dic['MATRICULA'],dic['NOMBRE(S)'],dic['AP_PATERNO'],dic['AP_MATERNO'],dic['EDAD'],dic['SEXO']))"
      ],
      "metadata": {
        "id": "QFz98ohvs1S5"
      },
      "execution_count": 27,
      "outputs": []
    },
    {
      "cell_type": "code",
      "source": [
        "def menu():\n",
        "    print(\"MENU:\")\n",
        "    print(\"1.-CREAR DICCIONARIO\")\n",
        "    print(\"2.-IMPRIMIR DICCIONARIO\")\n",
        "    print(\"0.-SALIR\")"
      ],
      "metadata": {
        "id": "V3FcO69mtn9-"
      },
      "execution_count": null,
      "outputs": []
    },
    {
      "cell_type": "code",
      "source": [
        "while True:\n",
        "    menu()\n",
        "    op = int(input(\"Ingresa la funcion que deseas utilizar: \"))\n",
        "    if op == 1:\n",
        "        dic = hacer_dict()\n",
        "        input(\"Presiona ENTER para borrar la pantalla\")\n",
        "        clear_output()\n",
        "        continue\n",
        "    elif op == 2:\n",
        "        impr_dic(dic)\n",
        "        input(\"Presiona ENTER para borrar la pantalla\")\n",
        "        clear_output()\n",
        "        continue\n",
        "    elif op == 0:\n",
        "        break"
      ],
      "metadata": {
        "id": "dJRgiDyItrdK",
        "colab": {
          "base_uri": "https://localhost:8080/"
        },
        "outputId": "64572e8c-75db-4b18-995b-888660d5f99e"
      },
      "execution_count": null,
      "outputs": [
        {
          "output_type": "stream",
          "name": "stdout",
          "text": [
            "MENU:\n",
            "1.-CREAR DICCIONARIO\n",
            "2.-IMPRIMIR DICCIONARIO\n",
            "0.-SALIR\n",
            "Ingresa la funcion que deseas utilizar: 2\n",
            "MATRICULA           NOMBRE(S)           AP_PATERNO          AP_MATERNO          EDAD                SEXO\n",
            "369226              Jose Abraham        Beristain           Navarro             19                  H\n"
          ]
        }
      ]
    }
  ]
}